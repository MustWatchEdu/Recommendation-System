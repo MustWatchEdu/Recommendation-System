{
 "cells": [
  {
   "cell_type": "code",
   "execution_count": 1,
   "id": "ece2281d",
   "metadata": {},
   "outputs": [],
   "source": [
    "# import necessary libraries\n",
    "\n",
    "import pandas as pd\n",
    "from math import sqrt"
   ]
  },
  {
   "cell_type": "code",
   "execution_count": 102,
   "id": "ce31dacc",
   "metadata": {},
   "outputs": [],
   "source": [
    "#dictionary with usernames their watched web series and ratings out of 5\n",
    "\n",
    "dataset={\n",
    "        'Rakesh': {'Special Ops': 5,\n",
    "                  'Criminal Justice': 3,\n",
    "                  'Panchayat': 3,\n",
    "                  'Sacred Games': 3,\n",
    "                  'Apharan': 2,\n",
    "                  'Mirzapur': 3},\n",
    "    \n",
    "        'Aditya': {'Special Ops': 5,\n",
    "                    'Criminal Justice': 3,\n",
    "                    'Sacred Games': 5,\n",
    "                    'Panchayat':5,\n",
    "                    'Mirzapur': 3,\n",
    "                    'Apharan': 3},\n",
    "    \n",
    "        'Neeraj': {'Special Ops': 2,\n",
    "                   'Panchayat': 5,\n",
    "                   'Sacred Games': 3,\n",
    "                   'Mirzapur': 4},\n",
    "    \n",
    "        'Neel': {'Panchayat': 5,\n",
    "                   'Mirzapur': 4,\n",
    "                   'Sacred Games': 4,},\n",
    "    \n",
    "       'Harshit': {'Special Ops': 4,\n",
    "                    'Criminal Justice': 4,\n",
    "                    'Panchayat': 4,\n",
    "                    'Mirzapur': 3,\n",
    "                    'Apharan': 2},\n",
    "    \n",
    "       'Rizwan': {'Special Ops': 3,\n",
    "                  'Panchayat': 4,\n",
    "                  'Mirzapur': 3,\n",
    "                  'Sacred Games': 5,\n",
    "                  'Apharan': 3},\n",
    "    \n",
    "      'Sunny': {'Panchayat':4,\n",
    "                  'Apharan':1,\n",
    "                  'Sacred Games':4}}"
   ]
  },
  {
   "cell_type": "code",
   "execution_count": 103,
   "id": "6d75c002",
   "metadata": {},
   "outputs": [
    {
     "data": {
      "text/html": [
       "<div>\n",
       "<style scoped>\n",
       "    .dataframe tbody tr th:only-of-type {\n",
       "        vertical-align: middle;\n",
       "    }\n",
       "\n",
       "    .dataframe tbody tr th {\n",
       "        vertical-align: top;\n",
       "    }\n",
       "\n",
       "    .dataframe thead th {\n",
       "        text-align: right;\n",
       "    }\n",
       "</style>\n",
       "<table border=\"1\" class=\"dataframe\">\n",
       "  <thead>\n",
       "    <tr style=\"text-align: right;\">\n",
       "      <th></th>\n",
       "      <th>Rakesh</th>\n",
       "      <th>Aditya</th>\n",
       "      <th>Neeraj</th>\n",
       "      <th>Neel</th>\n",
       "      <th>Harshit</th>\n",
       "      <th>Rizwan</th>\n",
       "      <th>Sunny</th>\n",
       "    </tr>\n",
       "  </thead>\n",
       "  <tbody>\n",
       "    <tr>\n",
       "      <th>Special Ops</th>\n",
       "      <td>5</td>\n",
       "      <td>5</td>\n",
       "      <td>2.0</td>\n",
       "      <td>Not Seen Yet</td>\n",
       "      <td>4.0</td>\n",
       "      <td>3.0</td>\n",
       "      <td>Not Seen Yet</td>\n",
       "    </tr>\n",
       "    <tr>\n",
       "      <th>Criminal Justice</th>\n",
       "      <td>3</td>\n",
       "      <td>3</td>\n",
       "      <td>Not Seen Yet</td>\n",
       "      <td>Not Seen Yet</td>\n",
       "      <td>4.0</td>\n",
       "      <td>Not Seen Yet</td>\n",
       "      <td>Not Seen Yet</td>\n",
       "    </tr>\n",
       "    <tr>\n",
       "      <th>Panchayat</th>\n",
       "      <td>3</td>\n",
       "      <td>5</td>\n",
       "      <td>5.0</td>\n",
       "      <td>5.0</td>\n",
       "      <td>4.0</td>\n",
       "      <td>4.0</td>\n",
       "      <td>4.0</td>\n",
       "    </tr>\n",
       "    <tr>\n",
       "      <th>Sacred Games</th>\n",
       "      <td>3</td>\n",
       "      <td>5</td>\n",
       "      <td>3.0</td>\n",
       "      <td>4.0</td>\n",
       "      <td>Not Seen Yet</td>\n",
       "      <td>5.0</td>\n",
       "      <td>4.0</td>\n",
       "    </tr>\n",
       "    <tr>\n",
       "      <th>Apharan</th>\n",
       "      <td>2</td>\n",
       "      <td>3</td>\n",
       "      <td>Not Seen Yet</td>\n",
       "      <td>Not Seen Yet</td>\n",
       "      <td>2.0</td>\n",
       "      <td>3.0</td>\n",
       "      <td>1.0</td>\n",
       "    </tr>\n",
       "    <tr>\n",
       "      <th>Mirzapur</th>\n",
       "      <td>3</td>\n",
       "      <td>3</td>\n",
       "      <td>4.0</td>\n",
       "      <td>4.0</td>\n",
       "      <td>3.0</td>\n",
       "      <td>3.0</td>\n",
       "      <td>Not Seen Yet</td>\n",
       "    </tr>\n",
       "  </tbody>\n",
       "</table>\n",
       "</div>"
      ],
      "text/plain": [
       "                  Rakesh  Aditya        Neeraj          Neel       Harshit  \\\n",
       "Special Ops            5       5           2.0  Not Seen Yet           4.0   \n",
       "Criminal Justice       3       3  Not Seen Yet  Not Seen Yet           4.0   \n",
       "Panchayat              3       5           5.0           5.0           4.0   \n",
       "Sacred Games           3       5           3.0           4.0  Not Seen Yet   \n",
       "Apharan                2       3  Not Seen Yet  Not Seen Yet           2.0   \n",
       "Mirzapur               3       3           4.0           4.0           3.0   \n",
       "\n",
       "                        Rizwan         Sunny  \n",
       "Special Ops                3.0  Not Seen Yet  \n",
       "Criminal Justice  Not Seen Yet  Not Seen Yet  \n",
       "Panchayat                  4.0           4.0  \n",
       "Sacred Games               5.0           4.0  \n",
       "Apharan                    3.0           1.0  \n",
       "Mirzapur                   3.0  Not Seen Yet  "
      ]
     },
     "execution_count": 103,
     "metadata": {},
     "output_type": "execute_result"
    }
   ],
   "source": [
    "#create a data frame of this dataset\n",
    "\n",
    "dataset_df=pd.DataFrame(dataset)\n",
    "dataset_df.fillna(\"Not Seen Yet\",inplace=True)\n",
    "dataset_df"
   ]
  },
  {
   "cell_type": "code",
   "execution_count": 104,
   "id": "805330e9",
   "metadata": {},
   "outputs": [],
   "source": [
    "# custom function to create unique set of web series\n",
    "\n",
    "def unique_items():\n",
    "    unique_items_list = []\n",
    "    for person in dataset.keys():\n",
    "        for items in dataset[person]:\n",
    "            unique_items_list.append(items)\n",
    "    s=set(unique_items_list)\n",
    "    unique_items_list=list(s)\n",
    "    return unique_items_list"
   ]
  },
  {
   "cell_type": "code",
   "execution_count": 105,
   "id": "ea5d0295",
   "metadata": {},
   "outputs": [
    {
     "data": {
      "text/plain": [
       "['Panchayat',\n",
       " 'Sacred Games',\n",
       " 'Apharan',\n",
       " 'Special Ops',\n",
       " 'Mirzapur',\n",
       " 'Criminal Justice']"
      ]
     },
     "execution_count": 105,
     "metadata": {},
     "output_type": "execute_result"
    }
   ],
   "source": [
    "unique_items()"
   ]
  },
  {
   "cell_type": "code",
   "execution_count": 109,
   "id": "27263fe9",
   "metadata": {},
   "outputs": [],
   "source": [
    "# custom function to create pearson correlation method from scratch\n",
    "\n",
    "def person_corelation(person1,person2):\n",
    "    both_rated = {}\n",
    "    #common_video\n",
    "    for item in dataset[person1]:\n",
    "        if item in dataset[person2]:\n",
    "            both_rated[item] = 1\n",
    "    print(both_rated)\n",
    "    \n",
    "    number_of_ratings = len(both_rated)\n",
    "    if number_of_ratings == 0:\n",
    "        return 0\n",
    "    \n",
    "    person1_preferences_sum = sum([dataset[person1][item] for item in both_rated])\n",
    "    person2_preferences_sum = sum([dataset[person2][item] for item in both_rated])\n",
    "    print('person1_preferences_sum' ,person1_preferences_sum)\n",
    "    print('person2_preferences_sum' ,person2_preferences_sum)\n",
    "        \n",
    "    # Sum up the squares of preferences of each user\n",
    "    person1_square_preferences_sum = sum([pow(dataset[person1][item], 2) for item in both_rated])\n",
    "    person2_square_preferences_sum = sum([pow(dataset[person2][item], 2) for item in both_rated])\n",
    "    print('person1_square_preferences_sum' ,person1_preferences_sum)\n",
    "    print('person2_square_preferences_sum' ,person1_preferences_sum)\n",
    "\n",
    "    # Sum up the product value of both preferences for each item\n",
    "    product_sum_of_both_users = sum([dataset[person1][item] * dataset[person2][item] for item in both_rated])\n",
    "    print('product_sum_of_both_users:', product_sum_of_both_users)\n",
    "    \n",
    "    # Calculate the pearson score\n",
    "    numerator_value = product_sum_of_both_users - (\n",
    "    person1_preferences_sum * person2_preferences_sum / number_of_ratings)\n",
    "    denominator_value = sqrt((person1_square_preferences_sum - pow(person1_preferences_sum, 2) / number_of_ratings) * (\n",
    "    person2_square_preferences_sum - pow(person2_preferences_sum, 2) / number_of_ratings))\n",
    "    if denominator_value == 0:\n",
    "        return 0\n",
    "    else:\n",
    "        r = numerator_value / denominator_value\n",
    "        return r"
   ]
  },
  {
   "cell_type": "code",
   "execution_count": 110,
   "id": "0eb828a1",
   "metadata": {},
   "outputs": [
    {
     "name": "stdout",
     "output_type": "stream",
     "text": [
      "{'Panchayat': 1, 'Apharan': 1, 'Sacred Games': 1}\n",
      "person1_preferences_sum 9\n",
      "person2_preferences_sum 8\n",
      "person1_square_preferences_sum 9\n",
      "person2_square_preferences_sum 9\n",
      "product_sum_of_both_users: 26\n",
      "0.9999999999999991\n"
     ]
    }
   ],
   "source": [
    "print(person_corelation('Sunny','Rakesh'))"
   ]
  },
  {
   "cell_type": "markdown",
   "id": "54c228db",
   "metadata": {},
   "source": [
    "# Phase 1 - User Similarity by using Pearson Correlation method"
   ]
  },
  {
   "cell_type": "code",
   "execution_count": 111,
   "id": "06226a99",
   "metadata": {},
   "outputs": [],
   "source": [
    "# custom function to check most similar users\n",
    "\n",
    "def most_similar_users(target_person,no_of_users):\n",
    "    \n",
    "    # Used list comprehension for finding pearson similarity between users\n",
    "    scores = [(person_corelation(target_person,other_person),other_person) for other_person in dataset if other_person !=target_person]\n",
    "    \n",
    "    #sort the scores in descending order\n",
    "    scores.sort(reverse=True)\n",
    "    \n",
    "    #return the scores between the target person & other persons\n",
    "    return scores[0:no_of_users]"
   ]
  },
  {
   "cell_type": "code",
   "execution_count": 120,
   "id": "9be612ab",
   "metadata": {},
   "outputs": [
    {
     "name": "stdout",
     "output_type": "stream",
     "text": [
      "{'Panchayat': 1, 'Apharan': 1, 'Sacred Games': 1}\n",
      "person1_preferences_sum 9\n",
      "person2_preferences_sum 8\n",
      "person1_square_preferences_sum 9\n",
      "person2_square_preferences_sum 9\n",
      "product_sum_of_both_users: 26\n",
      "{'Panchayat': 1, 'Apharan': 1, 'Sacred Games': 1}\n",
      "person1_preferences_sum 9\n",
      "person2_preferences_sum 13\n",
      "person1_square_preferences_sum 9\n",
      "person2_square_preferences_sum 9\n",
      "product_sum_of_both_users: 43\n",
      "{'Panchayat': 1, 'Sacred Games': 1}\n",
      "person1_preferences_sum 8\n",
      "person2_preferences_sum 8\n",
      "person1_square_preferences_sum 8\n",
      "person2_square_preferences_sum 8\n",
      "product_sum_of_both_users: 32\n",
      "{'Panchayat': 1, 'Sacred Games': 1}\n",
      "person1_preferences_sum 8\n",
      "person2_preferences_sum 9\n",
      "person1_square_preferences_sum 8\n",
      "person2_square_preferences_sum 8\n",
      "product_sum_of_both_users: 36\n",
      "{'Panchayat': 1, 'Apharan': 1}\n",
      "person1_preferences_sum 5\n",
      "person2_preferences_sum 6\n",
      "person1_square_preferences_sum 5\n",
      "person2_square_preferences_sum 5\n",
      "product_sum_of_both_users: 18\n",
      "{'Panchayat': 1, 'Apharan': 1, 'Sacred Games': 1}\n",
      "person1_preferences_sum 9\n",
      "person2_preferences_sum 12\n",
      "person1_square_preferences_sum 9\n",
      "person2_square_preferences_sum 9\n",
      "product_sum_of_both_users: 39\n"
     ]
    },
    {
     "data": {
      "text/plain": [
       "[(1.0000000000000004, 'Aditya'),\n",
       " (1.0, 'Harshit'),\n",
       " (0.9999999999999991, 'Rakesh'),\n",
       " (0.8660254037844387, 'Rizwan'),\n",
       " (0, 'Neeraj'),\n",
       " (0, 'Neel')]"
      ]
     },
     "execution_count": 120,
     "metadata": {},
     "output_type": "execute_result"
    }
   ],
   "source": [
    "most_similar_users('Sunny' ,6)"
   ]
  },
  {
   "cell_type": "code",
   "execution_count": 124,
   "id": "870db0f3",
   "metadata": {},
   "outputs": [],
   "source": [
    "#custom function to filter the seen movies and unseen movies of the target user\n",
    "\n",
    "def target_movies_to_users(target_person):\n",
    "    target_person_movie_lst = []\n",
    "    unique_list =unique_items()\n",
    "    for movies in dataset[target_person]:\n",
    "        target_person_movie_lst.append(movies)\n",
    "\n",
    "    s=set(unique_list)\n",
    "    recommended_movies=list(s.difference(target_person_movie_lst))\n",
    "    a = len(recommended_movies)\n",
    "    \n",
    "    if a == 0:\n",
    "        return 0\n",
    "    return recommended_movies,target_person_movie_lst"
   ]
  },
  {
   "cell_type": "code",
   "execution_count": 128,
   "id": "cfad0a28",
   "metadata": {},
   "outputs": [
    {
     "name": "stdout",
     "output_type": "stream",
     "text": [
      "(['Mirzapur', 'Criminal Justice', 'Special Ops'], ['Panchayat', 'Apharan', 'Sacred Games'])\n"
     ]
    }
   ],
   "source": [
    "print(target_movies_to_users('Sunny'))"
   ]
  },
  {
   "cell_type": "code",
   "execution_count": 129,
   "id": "7b230064",
   "metadata": {},
   "outputs": [
    {
     "data": {
      "text/html": [
       "<div>\n",
       "<style scoped>\n",
       "    .dataframe tbody tr th:only-of-type {\n",
       "        vertical-align: middle;\n",
       "    }\n",
       "\n",
       "    .dataframe tbody tr th {\n",
       "        vertical-align: top;\n",
       "    }\n",
       "\n",
       "    .dataframe thead th {\n",
       "        text-align: right;\n",
       "    }\n",
       "</style>\n",
       "<table border=\"1\" class=\"dataframe\">\n",
       "  <thead>\n",
       "    <tr style=\"text-align: right;\">\n",
       "      <th></th>\n",
       "      <th>Unseen Movies</th>\n",
       "      <th>Seen Movies</th>\n",
       "    </tr>\n",
       "  </thead>\n",
       "  <tbody>\n",
       "    <tr>\n",
       "      <th>0</th>\n",
       "      <td>Mirzapur</td>\n",
       "      <td>Panchayat</td>\n",
       "    </tr>\n",
       "    <tr>\n",
       "      <th>1</th>\n",
       "      <td>Criminal Justice</td>\n",
       "      <td>Apharan</td>\n",
       "    </tr>\n",
       "    <tr>\n",
       "      <th>2</th>\n",
       "      <td>Special Ops</td>\n",
       "      <td>Sacred Games</td>\n",
       "    </tr>\n",
       "  </tbody>\n",
       "</table>\n",
       "</div>"
      ],
      "text/plain": [
       "      Unseen Movies   Seen Movies\n",
       "0          Mirzapur     Panchayat\n",
       "1  Criminal Justice       Apharan\n",
       "2       Special Ops  Sacred Games"
      ]
     },
     "execution_count": 129,
     "metadata": {},
     "output_type": "execute_result"
    }
   ],
   "source": [
    "# function check\n",
    "\n",
    "unseen_movies,seen_movies=target_movies_to_users('Sunny')\n",
    "\n",
    "dct = {\"Unseen Movies\":unseen_movies,\"Seen Movies\":seen_movies}\n",
    "pd.DataFrame(dct)"
   ]
  },
  {
   "cell_type": "markdown",
   "id": "6264de0f",
   "metadata": {},
   "source": [
    "# Phase 2: Recommendation Phase - recommending web series on the behalf of user similarity "
   ]
  },
  {
   "cell_type": "code",
   "execution_count": 130,
   "id": "52c9737b",
   "metadata": {},
   "outputs": [],
   "source": [
    "def recommendation_phase(person):\n",
    "    # Gets recommendations for a person by using a weighted average of every other user's rankings\n",
    "    totals = {}  #empty dictionary\n",
    "    simSums = {} # empty dictionary\n",
    "    for other in dataset:\n",
    "        # don't compare me to myself\n",
    "        if other == person:\n",
    "            continue\n",
    "        sim = person_corelation(person, other)\n",
    "\n",
    "        # ignore scores of zero or lower\n",
    "        if sim <= 0:\n",
    "            continue\n",
    "        for item in dataset[other]:\n",
    "            # only score movies i haven't seen yet\n",
    "            if item not in dataset[person]:\n",
    "                # Similrity * score\n",
    "                totals.setdefault(item, 0)\n",
    "                totals[item] += dataset[other][item] * sim\n",
    "                # sum of similarities\n",
    "                simSums.setdefault(item, 0)\n",
    "                simSums[item] += sim\n",
    "                # Create the normalized list\n",
    "    \n",
    "    \n",
    "\n",
    "    rankings = [(total / simSums[item], item)  for item, total in totals.items()]\n",
    "    rankings.sort(reverse=True)\n",
    "    # returns the recommended items\n",
    "    recommendataions_list = [(recommend_item,score) for score, recommend_item in rankings]\n",
    "    return recommendataions_list"
   ]
  },
  {
   "cell_type": "code",
   "execution_count": 131,
   "id": "88c74d19",
   "metadata": {},
   "outputs": [
    {
     "name": "stdout",
     "output_type": "stream",
     "text": [
      "Enter the target person\n",
      "\n",
      "Person not found in the dataset..please try again\n"
     ]
    }
   ],
   "source": [
    "print(\"Enter the target person\")\n",
    "tp = input().title()\n",
    "if tp in dataset.keys():\n",
    "    recommendations =recommendation_phase(tp)\n",
    "    \n",
    "    if a != -1:|\n",
    "        print(\"Recommendation Using User based Collaborative Filtering:  \")\n",
    "        for webseries,weights in recommendations:\n",
    "            print(\"\\n\", webseries,'---->',weights)\n",
    "else:\n",
    "    print(\"Person not found in the dataset..please try again\")"
   ]
  }
 ],
 "metadata": {
  "kernelspec": {
   "display_name": "Python 3 (ipykernel)",
   "language": "python",
   "name": "python3"
  },
  "language_info": {
   "codemirror_mode": {
    "name": "ipython",
    "version": 3
   },
   "file_extension": ".py",
   "mimetype": "text/x-python",
   "name": "python",
   "nbconvert_exporter": "python",
   "pygments_lexer": "ipython3",
   "version": "3.10.0"
  }
 },
 "nbformat": 4,
 "nbformat_minor": 5
}
