{
 "cells": [
  {
   "cell_type": "code",
   "execution_count": 1,
   "id": "ece2281d",
   "metadata": {},
   "outputs": [],
   "source": [
    "# import necessary libraries\n",
    "\n",
    "import pandas as pd\n",
    "from math import sqrt"
   ]
  },
  {
   "cell_type": "code",
   "execution_count": 2,
   "id": "ce31dacc",
   "metadata": {},
   "outputs": [],
   "source": [
    "#dictionary with usernames their watched web series and ratings out of 5\n",
    "dataset={\n",
    "        'Rahul': {'GitHub Documentation by FreeCodecamp': 5,\n",
    "                  'ReactJS by lamadev': 3,\n",
    "                  'NodeJs by Code with Harry': 2,\n",
    "                  'Basic HTML CSS by code with harry': 3},\n",
    "    \n",
    "        'Rishabh': {'GitHub Documentation by FreeCodecamp': 5,\n",
    "                    'Basic HTML CSS by code with harry': 3,\n",
    "                    'NodeJs by Code with Harry': 3},\n",
    "    \n",
    "        'Sonali': {'GitHub Documentation by FreeCodecamp': 2,\n",
    "                   'JavaScript by freecodecamp': 5,\n",
    "                   'Web3 by edroh': 3,\n",
    "                   'Basic HTML CSS by code with harry': 4},\n",
    "    \n",
    "        'Ritvik': {'JavaScript by freecodecamp': 5,\n",
    "                   'Basic HTML CSS by code with harry': 4,\n",
    "                   'Web3 by edroh': 4,},\n",
    "    \n",
    "       'Harshita': {'GitHub Documentation by FreeCodecamp': 4,\n",
    "                    'ReactJS by lamadev': 4,\n",
    "                    'JavaScript by freecodecamp': 4,\n",
    "                    'Basic HTML CSS by code with harry': 3,\n",
    "                    'NodeJs by Code with Harry': 2},\n",
    "    \n",
    "       'Shubhi': {'JavaScript by freecodecamp': 4,\n",
    "                  'Basic HTML CSS by code with harry': 3,\n",
    "                  'Web3 by edroh': 5,\n",
    "                  'NodeJs by Code with Harry': 3},\n",
    "    \n",
    "      'Shaurya': {'JavaScript by freecodecamp':4,\n",
    "                  'NodeJs by Code with Harry':1,\n",
    "                  'Web3 by edroh':4}}"
   ]
  },
  {
   "cell_type": "code",
   "execution_count": 3,
   "id": "6d75c002",
   "metadata": {},
   "outputs": [
    {
     "data": {
      "text/html": [
       "<div>\n",
       "<style scoped>\n",
       "    .dataframe tbody tr th:only-of-type {\n",
       "        vertical-align: middle;\n",
       "    }\n",
       "\n",
       "    .dataframe tbody tr th {\n",
       "        vertical-align: top;\n",
       "    }\n",
       "\n",
       "    .dataframe thead th {\n",
       "        text-align: right;\n",
       "    }\n",
       "</style>\n",
       "<table border=\"1\" class=\"dataframe\">\n",
       "  <thead>\n",
       "    <tr style=\"text-align: right;\">\n",
       "      <th></th>\n",
       "      <th>Rahul</th>\n",
       "      <th>Rishabh</th>\n",
       "      <th>Sonali</th>\n",
       "      <th>Ritvik</th>\n",
       "      <th>Harshita</th>\n",
       "      <th>Shubhi</th>\n",
       "      <th>Shaurya</th>\n",
       "    </tr>\n",
       "  </thead>\n",
       "  <tbody>\n",
       "    <tr>\n",
       "      <th>GitHub Documentation by FreeCodecamp</th>\n",
       "      <td>5.0</td>\n",
       "      <td>5.0</td>\n",
       "      <td>2.0</td>\n",
       "      <td>Not Seen Yet</td>\n",
       "      <td>4.0</td>\n",
       "      <td>Not Seen Yet</td>\n",
       "      <td>Not Seen Yet</td>\n",
       "    </tr>\n",
       "    <tr>\n",
       "      <th>ReactJS by lamadev</th>\n",
       "      <td>3.0</td>\n",
       "      <td>Not Seen Yet</td>\n",
       "      <td>Not Seen Yet</td>\n",
       "      <td>Not Seen Yet</td>\n",
       "      <td>4.0</td>\n",
       "      <td>Not Seen Yet</td>\n",
       "      <td>Not Seen Yet</td>\n",
       "    </tr>\n",
       "    <tr>\n",
       "      <th>NodeJs by Code with Harry</th>\n",
       "      <td>2.0</td>\n",
       "      <td>3.0</td>\n",
       "      <td>Not Seen Yet</td>\n",
       "      <td>Not Seen Yet</td>\n",
       "      <td>2.0</td>\n",
       "      <td>3.0</td>\n",
       "      <td>1.0</td>\n",
       "    </tr>\n",
       "    <tr>\n",
       "      <th>Basic HTML CSS by code with harry</th>\n",
       "      <td>3.0</td>\n",
       "      <td>3.0</td>\n",
       "      <td>4.0</td>\n",
       "      <td>4.0</td>\n",
       "      <td>3.0</td>\n",
       "      <td>3.0</td>\n",
       "      <td>Not Seen Yet</td>\n",
       "    </tr>\n",
       "    <tr>\n",
       "      <th>JavaScript by freecodecamp</th>\n",
       "      <td>Not Seen Yet</td>\n",
       "      <td>Not Seen Yet</td>\n",
       "      <td>5.0</td>\n",
       "      <td>5.0</td>\n",
       "      <td>4.0</td>\n",
       "      <td>4.0</td>\n",
       "      <td>4.0</td>\n",
       "    </tr>\n",
       "    <tr>\n",
       "      <th>Web3 by edroh</th>\n",
       "      <td>Not Seen Yet</td>\n",
       "      <td>Not Seen Yet</td>\n",
       "      <td>3.0</td>\n",
       "      <td>4.0</td>\n",
       "      <td>Not Seen Yet</td>\n",
       "      <td>5.0</td>\n",
       "      <td>4.0</td>\n",
       "    </tr>\n",
       "  </tbody>\n",
       "</table>\n",
       "</div>"
      ],
      "text/plain": [
       "                                             Rahul       Rishabh  \\\n",
       "GitHub Documentation by FreeCodecamp           5.0           5.0   \n",
       "ReactJS by lamadev                             3.0  Not Seen Yet   \n",
       "NodeJs by Code with Harry                      2.0           3.0   \n",
       "Basic HTML CSS by code with harry              3.0           3.0   \n",
       "JavaScript by freecodecamp            Not Seen Yet  Not Seen Yet   \n",
       "Web3 by edroh                         Not Seen Yet  Not Seen Yet   \n",
       "\n",
       "                                            Sonali        Ritvik  \\\n",
       "GitHub Documentation by FreeCodecamp           2.0  Not Seen Yet   \n",
       "ReactJS by lamadev                    Not Seen Yet  Not Seen Yet   \n",
       "NodeJs by Code with Harry             Not Seen Yet  Not Seen Yet   \n",
       "Basic HTML CSS by code with harry              4.0           4.0   \n",
       "JavaScript by freecodecamp                     5.0           5.0   \n",
       "Web3 by edroh                                  3.0           4.0   \n",
       "\n",
       "                                          Harshita        Shubhi       Shaurya  \n",
       "GitHub Documentation by FreeCodecamp           4.0  Not Seen Yet  Not Seen Yet  \n",
       "ReactJS by lamadev                             4.0  Not Seen Yet  Not Seen Yet  \n",
       "NodeJs by Code with Harry                      2.0           3.0           1.0  \n",
       "Basic HTML CSS by code with harry              3.0           3.0  Not Seen Yet  \n",
       "JavaScript by freecodecamp                     4.0           4.0           4.0  \n",
       "Web3 by edroh                         Not Seen Yet           5.0           4.0  "
      ]
     },
     "execution_count": 3,
     "metadata": {},
     "output_type": "execute_result"
    }
   ],
   "source": [
    "#create a data frame of this dataset\n",
    "\n",
    "dataset_df=pd.DataFrame(dataset)\n",
    "dataset_df.fillna(\"Not Seen Yet\",inplace=True)\n",
    "dataset_df"
   ]
  },
  {
   "cell_type": "code",
   "execution_count": 4,
   "id": "805330e9",
   "metadata": {},
   "outputs": [],
   "source": [
    "# custom function to create unique set of web series\n",
    "\n",
    "def unique_items():\n",
    "    unique_items_list = []\n",
    "    for person in dataset.keys():\n",
    "        for items in dataset[person]:\n",
    "            unique_items_list.append(items)\n",
    "    s=set(unique_items_list)\n",
    "    unique_items_list=list(s)\n",
    "    return unique_items_list"
   ]
  },
  {
   "cell_type": "code",
   "execution_count": 5,
   "id": "ea5d0295",
   "metadata": {},
   "outputs": [
    {
     "data": {
      "text/plain": [
       "['Basic HTML CSS by code with harry',\n",
       " 'ReactJS by lamadev',\n",
       " 'JavaScript by freecodecamp',\n",
       " 'Web3 by edroh',\n",
       " 'NodeJs by Code with Harry',\n",
       " 'GitHub Documentation by FreeCodecamp']"
      ]
     },
     "execution_count": 5,
     "metadata": {},
     "output_type": "execute_result"
    }
   ],
   "source": [
    "unique_items()"
   ]
  },
  {
   "cell_type": "code",
   "execution_count": 6,
   "id": "27263fe9",
   "metadata": {},
   "outputs": [],
   "source": [
    "# custom function to create pearson correlation method from scratch\n",
    "\n",
    "def person_corelation(person1,person2):\n",
    "    both_rated = {}\n",
    "    #common_video\n",
    "    for item in dataset[person1]:\n",
    "        if item in dataset[person2]:\n",
    "            both_rated[item] = 1\n",
    "    print(both_rated)\n",
    "    \n",
    "    number_of_ratings = len(both_rated)\n",
    "    if number_of_ratings == 0:\n",
    "        return 0\n",
    "    \n",
    "    person1_preferences_sum = sum([dataset[person1][item] for item in both_rated])\n",
    "    person2_preferences_sum = sum([dataset[person2][item] for item in both_rated])\n",
    "    print('person1_preferences_sum' ,person1_preferences_sum)\n",
    "    print('person2_preferences_sum' ,person2_preferences_sum)\n",
    "        \n",
    "    # Sum up the squares of preferences of each user\n",
    "    person1_square_preferences_sum = sum([pow(dataset[person1][item], 2) for item in both_rated])\n",
    "    person2_square_preferences_sum = sum([pow(dataset[person2][item], 2) for item in both_rated])\n",
    "    print('person1_square_preferences_sum' ,person1_preferences_sum)\n",
    "    print('person2_square_preferences_sum' ,person1_preferences_sum)\n",
    "\n",
    "    # Sum up the product value of both preferences for each item\n",
    "    product_sum_of_both_users = sum([dataset[person1][item] * dataset[person2][item] for item in both_rated])\n",
    "    print('product_sum_of_both_users:', product_sum_of_both_users)\n",
    "    \n",
    "    # Calculate the pearson score\n",
    "    numerator_value = product_sum_of_both_users - (\n",
    "    person1_preferences_sum * person2_preferences_sum / number_of_ratings)\n",
    "    denominator_value = sqrt((person1_square_preferences_sum - pow(person1_preferences_sum, 2) / number_of_ratings) * (\n",
    "    person2_square_preferences_sum - pow(person2_preferences_sum, 2) / number_of_ratings))\n",
    "    if denominator_value == 0:\n",
    "        return 0\n",
    "    else:\n",
    "        r = numerator_value / denominator_value\n",
    "        return r"
   ]
  },
  {
   "cell_type": "code",
   "execution_count": 18,
   "id": "0eb828a1",
   "metadata": {},
   "outputs": [
    {
     "name": "stdout",
     "output_type": "stream",
     "text": [
      "{'JavaScript by freecodecamp': 1, 'Basic HTML CSS by code with harry': 1, 'NodeJs by Code with Harry': 1}\n",
      "person1_preferences_sum 9\n",
      "person2_preferences_sum 10\n",
      "person1_square_preferences_sum 9\n",
      "person2_square_preferences_sum 9\n",
      "product_sum_of_both_users: 31\n",
      "0.8660254037844402\n"
     ]
    }
   ],
   "source": [
    "print(person_corelation('Harshita','Shubhi'))"
   ]
  },
  {
   "cell_type": "markdown",
   "id": "54c228db",
   "metadata": {},
   "source": [
    "# Phase 1 - User Similarity by using Pearson Correlation method"
   ]
  },
  {
   "cell_type": "code",
   "execution_count": 8,
   "id": "06226a99",
   "metadata": {},
   "outputs": [],
   "source": [
    "# custom function to check most similar users\n",
    "\n",
    "def most_similar_users(target_person,no_of_users):\n",
    "    \n",
    "    # Used list comprehension for finding pearson similarity between users\n",
    "    scores = [(person_corelation(target_person,other_person),other_person) for other_person in dataset if other_person !=target_person]\n",
    "    \n",
    "    #sort the scores in descending order\n",
    "    scores.sort(reverse=True)\n",
    "    \n",
    "    #return the scores between the target person & other persons\n",
    "    return scores[0:no_of_users]"
   ]
  },
  {
   "cell_type": "code",
   "execution_count": 20,
   "id": "9be612ab",
   "metadata": {},
   "outputs": [
    {
     "name": "stdout",
     "output_type": "stream",
     "text": [
      "{'GitHub Documentation by FreeCodecamp': 1, 'ReactJS by lamadev': 1, 'Basic HTML CSS by code with harry': 1, 'NodeJs by Code with Harry': 1}\n",
      "person1_preferences_sum 13\n",
      "person2_preferences_sum 13\n",
      "person1_square_preferences_sum 13\n",
      "person2_square_preferences_sum 13\n",
      "product_sum_of_both_users: 45\n",
      "{'GitHub Documentation by FreeCodecamp': 1, 'Basic HTML CSS by code with harry': 1, 'NodeJs by Code with Harry': 1}\n",
      "person1_preferences_sum 9\n",
      "person2_preferences_sum 11\n",
      "person1_square_preferences_sum 9\n",
      "person2_square_preferences_sum 9\n",
      "product_sum_of_both_users: 35\n",
      "{'GitHub Documentation by FreeCodecamp': 1, 'JavaScript by freecodecamp': 1, 'Basic HTML CSS by code with harry': 1}\n",
      "person1_preferences_sum 11\n",
      "person2_preferences_sum 11\n",
      "person1_square_preferences_sum 11\n",
      "person2_square_preferences_sum 11\n",
      "product_sum_of_both_users: 40\n",
      "{'JavaScript by freecodecamp': 1, 'Basic HTML CSS by code with harry': 1}\n",
      "person1_preferences_sum 7\n",
      "person2_preferences_sum 9\n",
      "person1_square_preferences_sum 7\n",
      "person2_square_preferences_sum 7\n",
      "product_sum_of_both_users: 32\n",
      "{'JavaScript by freecodecamp': 1, 'Basic HTML CSS by code with harry': 1, 'NodeJs by Code with Harry': 1}\n",
      "person1_preferences_sum 9\n",
      "person2_preferences_sum 10\n",
      "person1_square_preferences_sum 9\n",
      "person2_square_preferences_sum 9\n",
      "product_sum_of_both_users: 31\n",
      "{'JavaScript by freecodecamp': 1, 'NodeJs by Code with Harry': 1}\n",
      "person1_preferences_sum 6\n",
      "person2_preferences_sum 5\n",
      "person1_square_preferences_sum 6\n",
      "person2_square_preferences_sum 6\n",
      "product_sum_of_both_users: 18\n"
     ]
    },
    {
     "data": {
      "text/plain": [
       "[(1.0, 'Shaurya'),\n",
       " (1.0, 'Ritvik'),\n",
       " (0.8660254037844402, 'Shubhi'),\n",
       " (0.866025403784439, 'Rishabh'),\n",
       " (0.760885910252682, 'Rahul'),\n",
       " (-0.18898223650461535, 'Sonali')]"
      ]
     },
     "execution_count": 20,
     "metadata": {},
     "output_type": "execute_result"
    }
   ],
   "source": [
    "most_similar_users('Harshita' ,6)"
   ]
  },
  {
   "cell_type": "code",
   "execution_count": 10,
   "id": "870db0f3",
   "metadata": {},
   "outputs": [],
   "source": [
    "#custom function to filter the seen movies and unseen movies of the target user\n",
    "\n",
    "def target_movies_to_users(target_person):\n",
    "    target_person_movie_lst = []\n",
    "    unique_list =unique_items()\n",
    "    for movies in dataset[target_person]:\n",
    "        target_person_movie_lst.append(movies)\n",
    "\n",
    "    s=set(unique_list)\n",
    "    recommended_movies=list(s.difference(target_person_movie_lst))\n",
    "    a = len(recommended_movies)\n",
    "    \n",
    "    if a == 0:\n",
    "        return 0\n",
    "    return recommended_movies,target_person_movie_lst"
   ]
  },
  {
   "cell_type": "code",
   "execution_count": 11,
   "id": "cfad0a28",
   "metadata": {},
   "outputs": [
    {
     "name": "stdout",
     "output_type": "stream",
     "text": [
      "(['Web3 by edroh'], ['GitHub Documentation by FreeCodecamp', 'ReactJS by lamadev', 'JavaScript by freecodecamp', 'Basic HTML CSS by code with harry', 'NodeJs by Code with Harry'])\n"
     ]
    }
   ],
   "source": [
    "print(target_movies_to_users('Harshita'))"
   ]
  },
  {
   "cell_type": "code",
   "execution_count": 15,
   "id": "7b230064",
   "metadata": {},
   "outputs": [],
   "source": [
    "# # function check\n",
    "\n",
    "# unseen_movies,seen_movies=target_movies_to_users()\n",
    "\n",
    "# dct = {\"Unseen Movies\":unseen_movies,\"Seen Movies\":seen_movies}\n",
    "# pd.DataFrame(dct)"
   ]
  },
  {
   "cell_type": "markdown",
   "id": "6264de0f",
   "metadata": {},
   "source": [
    "# Phase 2: Recommendation Phase - recommending web series on the behalf of user similarity "
   ]
  },
  {
   "cell_type": "code",
   "execution_count": 16,
   "id": "52c9737b",
   "metadata": {},
   "outputs": [],
   "source": [
    "def recommendation_phase(person):\n",
    "    # Gets recommendations for a person by using a weighted average of every other user's rankings\n",
    "    totals = {}  #empty dictionary\n",
    "    simSums = {} # empty dictionary\n",
    "    for other in dataset:\n",
    "        # don't compare me to myself\n",
    "        if other == person:\n",
    "            continue\n",
    "        sim = person_corelation(person, other)\n",
    "\n",
    "        # ignore scores of zero or lower\n",
    "        if sim <= 0:\n",
    "            continue\n",
    "        for item in dataset[other]:\n",
    "            # only score movies i haven't seen yet\n",
    "            if item not in dataset[person]:\n",
    "                # Similrity * score\n",
    "                totals.setdefault(item, 0)\n",
    "                totals[item] += dataset[other][item] * sim\n",
    "                # sum of similarities\n",
    "                simSums.setdefault(item, 0)\n",
    "                simSums[item] += sim\n",
    "                # Create the normalized list\n",
    "    \n",
    "    \n",
    "\n",
    "    rankings = [(total / simSums[item], item)  for item, total in totals.items()]\n",
    "    rankings.sort(reverse=True)\n",
    "    # returns the recommended items\n",
    "    recommendataions_list = [(recommend_item,score) for score, recommend_item in rankings]\n",
    "    return recommendataions_list"
   ]
  },
  {
   "cell_type": "code",
   "execution_count": 17,
   "id": "88c74d19",
   "metadata": {},
   "outputs": [
    {
     "name": "stdout",
     "output_type": "stream",
     "text": [
      "Enter the target person\n",
      "Ritvik\n",
      "{'Basic HTML CSS by code with harry': 1}\n",
      "person1_preferences_sum 4\n",
      "person2_preferences_sum 3\n",
      "person1_square_preferences_sum 4\n",
      "person2_square_preferences_sum 4\n",
      "product_sum_of_both_users: 12\n",
      "{'Basic HTML CSS by code with harry': 1}\n",
      "person1_preferences_sum 4\n",
      "person2_preferences_sum 3\n",
      "person1_square_preferences_sum 4\n",
      "person2_square_preferences_sum 4\n",
      "product_sum_of_both_users: 12\n",
      "{'JavaScript by freecodecamp': 1, 'Basic HTML CSS by code with harry': 1, 'Web3 by edroh': 1}\n",
      "person1_preferences_sum 13\n",
      "person2_preferences_sum 12\n",
      "person1_square_preferences_sum 13\n",
      "person2_square_preferences_sum 13\n",
      "product_sum_of_both_users: 53\n",
      "{'JavaScript by freecodecamp': 1, 'Basic HTML CSS by code with harry': 1}\n",
      "person1_preferences_sum 9\n",
      "person2_preferences_sum 7\n",
      "person1_square_preferences_sum 9\n",
      "person2_square_preferences_sum 9\n",
      "product_sum_of_both_users: 32\n",
      "{'JavaScript by freecodecamp': 1, 'Basic HTML CSS by code with harry': 1, 'Web3 by edroh': 1}\n",
      "person1_preferences_sum 13\n",
      "person2_preferences_sum 12\n",
      "person1_square_preferences_sum 13\n",
      "person2_square_preferences_sum 13\n",
      "product_sum_of_both_users: 52\n",
      "{'JavaScript by freecodecamp': 1, 'Web3 by edroh': 1}\n",
      "person1_preferences_sum 9\n",
      "person2_preferences_sum 8\n",
      "person1_square_preferences_sum 9\n",
      "person2_square_preferences_sum 9\n",
      "product_sum_of_both_users: 36\n",
      "Recommendation Using User based Collaborative Filtering:  \n",
      "\n",
      " ReactJS by lamadev ----> 4.0\n",
      "\n",
      " GitHub Documentation by FreeCodecamp ----> 3.07179676972449\n",
      "\n",
      " NodeJs by Code with Harry ----> 2.0\n"
     ]
    }
   ],
   "source": [
    "print(\"Enter the target person\")\n",
    "tp = input().title()\n",
    "if tp in dataset.keys():\n",
    "    a =recommendation_phase(tp)\n",
    "    \n",
    "    if a != -1:\n",
    "        print(\"Recommendation Using User based Collaborative Filtering:  \")\n",
    "        for webseries,weights in a:\n",
    "            print(\"\\n\", webseries,'---->',weights)\n",
    "else:\n",
    "    print(\"Person not found in the dataset..please try again\")"
   ]
  },
  {
   "cell_type": "code",
   "execution_count": null,
   "id": "93051f9f",
   "metadata": {},
   "outputs": [],
   "source": []
  }
 ],
 "metadata": {
  "kernelspec": {
   "display_name": "Python 3 (ipykernel)",
   "language": "python",
   "name": "python3"
  },
  "language_info": {
   "codemirror_mode": {
    "name": "ipython",
    "version": 3
   },
   "file_extension": ".py",
   "mimetype": "text/x-python",
   "name": "python",
   "nbconvert_exporter": "python",
   "pygments_lexer": "ipython3",
   "version": "3.10.0"
  }
 },
 "nbformat": 4,
 "nbformat_minor": 5
}
