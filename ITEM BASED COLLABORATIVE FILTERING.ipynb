{
 "cells": [
  {
   "cell_type": "code",
   "execution_count": 1,
   "id": "654ec616",
   "metadata": {},
   "outputs": [],
   "source": [
    "#import sklearn library\n",
    "import pandas as pd\n",
    "from sklearn.metrics.pairwise import cosine_similarity"
   ]
  },
  {
   "cell_type": "code",
   "execution_count": 2,
   "id": "cf67ccd4",
   "metadata": {},
   "outputs": [],
   "source": [
    "#dictionary with usernames their watched web series and ratings out of 5\n",
    "dataset={\n",
    "        'Rahul': {'GitHub Documentation by FreeCodecamp': 5,\n",
    "                  'ReactJS by lamadev': 3,\n",
    "                  'NodeJs by Code with Harry': 2,\n",
    "                  'Basic HTML CSS by code with harry': 3},\n",
    "    \n",
    "        'Rishabh': {'GitHub Documentation by FreeCodecamp': 5,\n",
    "                    'Basic HTML CSS by code with harry': 3,\n",
    "                    'NodeJs by Code with Harry': 3},\n",
    "    \n",
    "        'Sonali': {'GitHub Documentation by FreeCodecamp': 2,\n",
    "                   'JavaScript by freecodecamp': 5,\n",
    "                   'Web3 by edroh': 3,\n",
    "                   'Basic HTML CSS by code with harry': 4},\n",
    "    \n",
    "        'Ritvik': {'JavaScript by freecodecamp': 5,\n",
    "                   'Basic HTML CSS by code with harry': 4,\n",
    "                   'Web3 by edroh': 4,},\n",
    "    \n",
    "       'Harshita': {'GitHub Documentation by FreeCodecamp': 4,\n",
    "                    'ReactJS by lamadev': 4,\n",
    "                    'JavaScript by freecodecamp': 4,\n",
    "                    'Basic HTML CSS by code with harry': 3,\n",
    "                    'NodeJs by Code with Harry': 2},\n",
    "    \n",
    "       'Shubhi': {'JavaScript by freecodecamp': 4,\n",
    "                  'Basic HTML CSS by code with harry': 3,\n",
    "                  'Web3 by edroh': 5,\n",
    "                  'NodeJs by Code with Harry': 3},\n",
    "    \n",
    "      'Shaurya': {'JavaScript by freecodecamp':4,\n",
    "                  'NodeJs by Code with Harry':1,\n",
    "                  'Web3 by edroh':4}}"
   ]
  },
  {
   "cell_type": "code",
   "execution_count": 3,
   "id": "efd88c84",
   "metadata": {},
   "outputs": [
    {
     "data": {
      "text/html": [
       "<div>\n",
       "<style scoped>\n",
       "    .dataframe tbody tr th:only-of-type {\n",
       "        vertical-align: middle;\n",
       "    }\n",
       "\n",
       "    .dataframe tbody tr th {\n",
       "        vertical-align: top;\n",
       "    }\n",
       "\n",
       "    .dataframe thead th {\n",
       "        text-align: right;\n",
       "    }\n",
       "</style>\n",
       "<table border=\"1\" class=\"dataframe\">\n",
       "  <thead>\n",
       "    <tr style=\"text-align: right;\">\n",
       "      <th></th>\n",
       "      <th>Rahul</th>\n",
       "      <th>Rishabh</th>\n",
       "      <th>Sonali</th>\n",
       "      <th>Ritvik</th>\n",
       "      <th>Harshita</th>\n",
       "      <th>Shubhi</th>\n",
       "      <th>Shaurya</th>\n",
       "    </tr>\n",
       "  </thead>\n",
       "  <tbody>\n",
       "    <tr>\n",
       "      <th>GitHub Documentation by FreeCodecamp</th>\n",
       "      <td>5.0</td>\n",
       "      <td>5.0</td>\n",
       "      <td>2.0</td>\n",
       "      <td>Not Seen Yet</td>\n",
       "      <td>4.0</td>\n",
       "      <td>Not Seen Yet</td>\n",
       "      <td>Not Seen Yet</td>\n",
       "    </tr>\n",
       "    <tr>\n",
       "      <th>ReactJS by lamadev</th>\n",
       "      <td>3.0</td>\n",
       "      <td>Not Seen Yet</td>\n",
       "      <td>Not Seen Yet</td>\n",
       "      <td>Not Seen Yet</td>\n",
       "      <td>4.0</td>\n",
       "      <td>Not Seen Yet</td>\n",
       "      <td>Not Seen Yet</td>\n",
       "    </tr>\n",
       "    <tr>\n",
       "      <th>NodeJs by Code with Harry</th>\n",
       "      <td>2.0</td>\n",
       "      <td>3.0</td>\n",
       "      <td>Not Seen Yet</td>\n",
       "      <td>Not Seen Yet</td>\n",
       "      <td>2.0</td>\n",
       "      <td>3.0</td>\n",
       "      <td>1.0</td>\n",
       "    </tr>\n",
       "    <tr>\n",
       "      <th>Basic HTML CSS by code with harry</th>\n",
       "      <td>3.0</td>\n",
       "      <td>3.0</td>\n",
       "      <td>4.0</td>\n",
       "      <td>4.0</td>\n",
       "      <td>3.0</td>\n",
       "      <td>3.0</td>\n",
       "      <td>Not Seen Yet</td>\n",
       "    </tr>\n",
       "    <tr>\n",
       "      <th>JavaScript by freecodecamp</th>\n",
       "      <td>Not Seen Yet</td>\n",
       "      <td>Not Seen Yet</td>\n",
       "      <td>5.0</td>\n",
       "      <td>5.0</td>\n",
       "      <td>4.0</td>\n",
       "      <td>4.0</td>\n",
       "      <td>4.0</td>\n",
       "    </tr>\n",
       "    <tr>\n",
       "      <th>Web3 by edroh</th>\n",
       "      <td>Not Seen Yet</td>\n",
       "      <td>Not Seen Yet</td>\n",
       "      <td>3.0</td>\n",
       "      <td>4.0</td>\n",
       "      <td>Not Seen Yet</td>\n",
       "      <td>5.0</td>\n",
       "      <td>4.0</td>\n",
       "    </tr>\n",
       "  </tbody>\n",
       "</table>\n",
       "</div>"
      ],
      "text/plain": [
       "                                             Rahul       Rishabh  \\\n",
       "GitHub Documentation by FreeCodecamp           5.0           5.0   \n",
       "ReactJS by lamadev                             3.0  Not Seen Yet   \n",
       "NodeJs by Code with Harry                      2.0           3.0   \n",
       "Basic HTML CSS by code with harry              3.0           3.0   \n",
       "JavaScript by freecodecamp            Not Seen Yet  Not Seen Yet   \n",
       "Web3 by edroh                         Not Seen Yet  Not Seen Yet   \n",
       "\n",
       "                                            Sonali        Ritvik  \\\n",
       "GitHub Documentation by FreeCodecamp           2.0  Not Seen Yet   \n",
       "ReactJS by lamadev                    Not Seen Yet  Not Seen Yet   \n",
       "NodeJs by Code with Harry             Not Seen Yet  Not Seen Yet   \n",
       "Basic HTML CSS by code with harry              4.0           4.0   \n",
       "JavaScript by freecodecamp                     5.0           5.0   \n",
       "Web3 by edroh                                  3.0           4.0   \n",
       "\n",
       "                                          Harshita        Shubhi       Shaurya  \n",
       "GitHub Documentation by FreeCodecamp           4.0  Not Seen Yet  Not Seen Yet  \n",
       "ReactJS by lamadev                             4.0  Not Seen Yet  Not Seen Yet  \n",
       "NodeJs by Code with Harry                      2.0           3.0           1.0  \n",
       "Basic HTML CSS by code with harry              3.0           3.0  Not Seen Yet  \n",
       "JavaScript by freecodecamp                     4.0           4.0           4.0  \n",
       "Web3 by edroh                         Not Seen Yet           5.0           4.0  "
      ]
     },
     "execution_count": 3,
     "metadata": {},
     "output_type": "execute_result"
    }
   ],
   "source": [
    "#create a data frame of this dataset\n",
    "dataset_df=pd.DataFrame(dataset)\n",
    "dataset_df.fillna(\"Not Seen Yet\",inplace=True)\n",
    "dataset_df"
   ]
  },
  {
   "cell_type": "code",
   "execution_count": 4,
   "id": "1dfe8090",
   "metadata": {},
   "outputs": [],
   "source": [
    "# custom function to create unique set of web series\n",
    "\n",
    "def unique_items():\n",
    "    unique_items_list = []\n",
    "    for person in dataset.keys():\n",
    "        for items in dataset[person]:\n",
    "            unique_items_list.append(items)\n",
    "    s=set(unique_items_list)\n",
    "    unique_items_list=list(s)\n",
    "    return unique_items_list"
   ]
  },
  {
   "cell_type": "markdown",
   "id": "cfc326fd",
   "metadata": {},
   "source": [
    "# Cosine Similarity"
   ]
  },
  {
   "cell_type": "code",
   "execution_count": 7,
   "id": "05f40c8b",
   "metadata": {},
   "outputs": [],
   "source": [
    "# custom function to implement cosine similarity between two items i.e. web series\n",
    "\n",
    "def item_similarity(item1,item2):\n",
    "    both_rated = {}\n",
    "    for person in dataset.keys():\n",
    "        if item1 in dataset[person] and item2 in dataset[person]:\n",
    "            both_rated[person] = [dataset[person][item1],dataset[person][item2]]\n",
    "\n",
    "    print(both_rated)\n",
    "    number_of_ratings = len(both_rated)\n",
    "    if number_of_ratings == 0:\n",
    "        return 0\n",
    "\n",
    "    item1_ratings = [[dataset[k][item1] for k,v in both_rated.items() if item1 in dataset[k] and item2 in dataset[k]]]\n",
    "    item2_ratings = [[dataset[k][item2] for k, v in both_rated.items() if item1 in dataset[k] and item2 in dataset[k]]]\n",
    "    print(\"{} ratings :: {}\".format(item1,item1_ratings))\n",
    "    print(\"{} ratings :: {}\".format(item2,item2_ratings))\n",
    "    cs = cosine_similarity(item1_ratings,item2_ratings)\n",
    "    return cs[0][0]"
   ]
  },
  {
   "cell_type": "code",
   "execution_count": 8,
   "id": "3737815f",
   "metadata": {},
   "outputs": [
    {
     "name": "stdout",
     "output_type": "stream",
     "text": [
      "{'Sonali': [2, 5], 'Harshita': [4, 4]}\n",
      "GitHub Documentation by FreeCodecamp ratings :: [[2, 4]]\n",
      "JavaScript by freecodecamp ratings :: [[5, 4]]\n",
      "0.9079593845004517\n"
     ]
    }
   ],
   "source": [
    "print(item_similarity('GitHub Documentation by FreeCodecamp','JavaScript by freecodecamp'))"
   ]
  },
  {
   "cell_type": "markdown",
   "id": "797fbca1",
   "metadata": {},
   "source": [
    "# Phase 1: Item Similarity between multiple items"
   ]
  },
  {
   "cell_type": "code",
   "execution_count": null,
   "id": "1495f08c",
   "metadata": {},
   "outputs": [],
   "source": [
    "#custom function to check most similar items \n",
    "\n",
    "def most_similar_items(target_item):\n",
    "    un_lst=unique_items()\n",
    "    scores = [(item_similarity(target_item,other_item),target_item+\" --> \"+other_item) for other_item in un_lst if other_item!=target_item]\n",
    "    scores.sort(reverse=True)\n",
    "    return scores"
   ]
  },
  {
   "cell_type": "code",
   "execution_count": null,
   "id": "99455746",
   "metadata": {},
   "outputs": [],
   "source": [
    "#custom function to filter the seen videos and unseen videos of the target user\n",
    "\n",
    "def target_videos_to_users(target_person):\n",
    "    target_person_video_lst = []\n",
    "    unique_list =unique_items()\n",
    "    for videos in dataset[target_person]:\n",
    "        target_person_video_lst.append(videos)\n",
    "\n",
    "    s=set(unique_list)\n",
    "    recommended_videos=list(s.difference(target_person_video_lst))\n",
    "    a = len(recommended_videos)\n",
    "    if a == 0:\n",
    "        return 0\n",
    "    return recommended_videos,target_person_video_lst"
   ]
  },
  {
   "cell_type": "code",
   "execution_count": null,
   "id": "434c58c1",
   "metadata": {},
   "outputs": [],
   "source": [
    "# function check\n",
    "\n",
    "unseen_videos,seen_videos=target_videos_to_users('Ritvik')\n",
    "\n",
    "dct = {\"Unseen videos\":unseen_videos,\"Seen videos\":seen_videos}\n",
    "pd.DataFrame(dct)"
   ]
  },
  {
   "cell_type": "markdown",
   "id": "277e1a13",
   "metadata": {},
   "source": [
    "# Phase 2: Recommendation Phase :: recommending movies to the target user on behalf of item similarity"
   ]
  },
  {
   "cell_type": "code",
   "execution_count": null,
   "id": "85d70c4c",
   "metadata": {},
   "outputs": [],
   "source": [
    "def recommendation_phase(target_person):\n",
    "    if target_videos_to_users(target_person=target_person) == 0:\n",
    "#         print(target_person, \"has seen all the videos\")\n",
    "        return -1\n",
    "    not_seen_videos,seen_videos=target_videos_to_users(target_person=target_person)\n",
    "    seen_ratings = [[dataset[target_person][videos],videos] for videos in dataset[target_person]]\n",
    "    weighted_avg,weighted_sim = 0,0\n",
    "    rankings =[]\n",
    "    for i in not_seen_videos:\n",
    "        for rate,video in seen_ratings:\n",
    "            item_sim=item_similarity(i,video)\n",
    "            weighted_avg +=(item_sim*rate)\n",
    "            weighted_sim +=item_sim\n",
    "        weighted_rank=weighted_avg/weighted_sim\n",
    "        rankings.append([weighted_rank,i])\n",
    "\n",
    "    rankings.sort(reverse=True)\n",
    "    return rankings"
   ]
  },
  {
   "cell_type": "code",
   "execution_count": null,
   "id": "b5583843",
   "metadata": {},
   "outputs": [],
   "source": [
    "print(\"Enter the target person\")\n",
    "tp = input().title()\n",
    "if tp in dataset.keys():\n",
    "    a=recommendation_phase(tp)\n",
    "    if a != -1:\n",
    "        print(\"Recommendation Using Item based Collaborative Filtering:  \")\n",
    "        for videos,weights in a:\n",
    "            print(videos,\" ---> \",weights)\n",
    "else:\n",
    "    print(\"Person not found in the dataset..please try again\")"
   ]
  },
  {
   "cell_type": "code",
   "execution_count": null,
   "id": "fe690d03",
   "metadata": {},
   "outputs": [],
   "source": []
  }
 ],
 "metadata": {
  "kernelspec": {
   "display_name": "Python 3 (ipykernel)",
   "language": "python",
   "name": "python3"
  },
  "language_info": {
   "codemirror_mode": {
    "name": "ipython",
    "version": 3
   },
   "file_extension": ".py",
   "mimetype": "text/x-python",
   "name": "python",
   "nbconvert_exporter": "python",
   "pygments_lexer": "ipython3",
   "version": "3.10.0"
  }
 },
 "nbformat": 4,
 "nbformat_minor": 5
}
